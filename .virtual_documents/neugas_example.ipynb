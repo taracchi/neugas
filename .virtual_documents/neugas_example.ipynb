


from sklearn import datasets
from neugas import NeuGas, quantization_error
import numpy as np
import time

from bokeh.plotting import figure, show
from bokeh.io import output_notebook
from bokeh.palettes import Vibrant3

output_notebook()
np.random.seed(1976)





NUM_POINTS=5000
NG_PARTICLES=NUM_POINTS//50
UPRATE_VALUE=0.5





datasetbag=[]
datasetbag.append(datasets.make_moons(n_samples=NUM_POINTS,noise=0.05)[0])
datasetbag.append(datasets.make_blobs(n_samples=NUM_POINTS, n_features=2,cluster_std=1.0)[0])
datasetbag.append(datasets.make_circles(n_samples=NUM_POINTS, factor=0.5, noise=0.05)[0])





for i,data in enumerate(datasetbag):
    
    ng = NeuGas(data, NG_PARTICLES)

    start_time=time.time()
    ng.fit(data,
            iterations=2*NUM_POINTS,
            uprate=UPRATE_VALUE,
            delta_coeff_min_update=0,
            lr0=1)
    elapsed_time=time.time()-start_time
    _,individual_qe=ng.quantize(data)
    print('Dataset %d training time %.2g'%(i+1,elapsed_time))
    print('Quantization error: %.2g'%np.mean(individual_qe))
    
    
    p = figure(title='Uprate: %.2f'%(UPRATE_VALUE),width=600,height=600)
    

    p.circle(x=data[:, 0], y=data[:, 1],
           legend_label='Data',
           color=Vibrant3[1],alpha=0.2, size=8)
    
    p.circle(x=ng.particles[:, 0], y=ng.particles[:, 1],
           legend_label='Particles',
           color=Vibrant3[0],alpha=1, size=12)
    
    p.legend.click_policy="hide"
    show(p)





qe=quantization_error(ng.particles,data)
print('Quantization error is: %3g'%qe)





partcile_id,dist=ng.quantize(data)

print('Particle    Distance')
print('--------------------')
for i in range(20):
    print('%3d          %5.2g'%(partcile_id[i],dist[i]))


print('\n Average quantization error is: %3g'%np.mean(dist))



