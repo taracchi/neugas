


import pandas as pd
import numpy as np
import matplotlib.pyplot as plt
from sklearn.datasets import make_moons, make_blobs, make_circles
from neugas import NeuGas, quantization_error





#   dimension of the training dataset
data_size=(2000,2)

# Shape

# MOONS
data_shape={'generator':'moons',
            'options':{'noise':0.1}
            }

# BLOBS
# data_shape={'generator':'blobs',
#             'options':{'centers':4,
#                        'cluster_std':1.5}
#             }


# CIRCLES
#data_shape={'generator':'circles',
#            'options':{'factor':0.2,
#                       'noise':0.1}
#            }





np.random.seed(42)    


if data_shape['generator']=='moons':
    data=make_moons(data_size[0],**data_shape['options'])[0]
elif data_shape['generator']=='blobs':
    data=make_blobs(data_size[0],**data_shape['options'])[0]
elif data_shape['generator']=='circles':
    data=make_circles(data_size[0],**data_shape['options'])[0]    
    
    
fig=plt.figure(figsize=(8,8))
plt.plot(data[:,0],data[:,1],'bo')
plt.title('Original data: %d samples'%data_size[0])
plt.show()
    





#   model instantiation
ng_model=NeuGas(data,100,mixture_gen_points=5)

# ng training
ng_model.fit(data,
            iterations=5000,
            uprate=0.3,
            lr0=1)





fig=plt.figure(figsize=(8,8))
plt.plot(data[:,0],data[:,1],'bo',label='Data')
plt.plot(ng_model.particles[:,0],ng_model.particles[:,1],'ro',label='Neural gas particles')
plt.legend()
plt.show()


qe=quantization_error(ng_model.particles,data)
print('Quantization error is: %3g'%qe)


partcile_id,dist=ng_model.quantize(data)

print('Particle    Distance')
print('--------------------')
for i in range(20):
    print('%3d          %5.2g'%(partcile_id[i],dist[i]))


print('\n\n Quantization error is: %3g'%np.mean(dist))
